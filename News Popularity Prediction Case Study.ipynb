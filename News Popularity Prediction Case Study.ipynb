{
  "nbformat": 4,
  "nbformat_minor": 0,
  "metadata": {
    "colab": {
      "name": "News Popularity Prediction Assignment.ipynb",
      "private_outputs": true,
      "provenance": [],
      "collapsed_sections": []
    },
    "kernelspec": {
      "name": "python3",
      "display_name": "Python 3"
    },
    "language_info": {
      "name": "python"
    }
  },
  "cells": [
    {
      "cell_type": "markdown",
      "metadata": {
        "id": "u87qDFNClKQC"
      },
      "source": [
        "1. Importing Liabriaries and Supress Warnings"
      ]
    },
    {
      "cell_type": "code",
      "metadata": {
        "id": "3-E4SgTMlMob"
      },
      "source": [
        "import pandas as pd\n",
        "import numpy as np"
      ],
      "execution_count": null,
      "outputs": []
    },
    {
      "cell_type": "markdown",
      "metadata": {
        "id": "jT0lOdJKlQzc"
      },
      "source": [
        "1.2 Importing Graphs"
      ]
    },
    {
      "cell_type": "code",
      "metadata": {
        "id": "qMbPeY5OlO9P"
      },
      "source": [
        "import seaborn as sns\n",
        "import matplotlib.pyplot as plt"
      ],
      "execution_count": null,
      "outputs": []
    },
    {
      "cell_type": "code",
      "metadata": {
        "id": "qZmORkLNlXAj"
      },
      "source": [
        "import missingno as msno\n",
        "from sklearn import linear_model\n",
        "from sklearn.model_selection import train_test_split\n",
        "from sklearn.impute import SimpleImputer\n",
        "from sklearn.preprocessing import StandardScaler, PolynomialFeatures\n",
        "from sklearn.decomposition import PCA\n",
        "from sklearn.ensemble import RandomForestRegressor\n",
        "from sklearn.linear_model import LinearRegression,LogisticRegression, Lasso, Ridge\n",
        "from sklearn import metrics\n",
        "from sklearn.manifold import TSNE\n",
        "from sklearn.pipeline import Pipeline\n",
        "from sklearn.ensemble import RandomForestClassifier\n",
        "from sklearn.model_selection import GridSearchCV\n",
        "from sklearn.decomposition import IncrementalPCA\n",
        "from sklearn.metrics import confusion_matrix, roc_curve, roc_auc_score, precision_score, recall_score, precision_recall_curve, f1_score, accuracy_score, r2_score, mean_squared_error"
      ],
      "execution_count": null,
      "outputs": []
    },
    {
      "cell_type": "markdown",
      "metadata": {
        "id": "irJpeLcjmPt5"
      },
      "source": [
        "1.4 Importing Warnings"
      ]
    },
    {
      "cell_type": "code",
      "metadata": {
        "id": "PPCsqn3Ml2rn"
      },
      "source": [
        "import warnings\n",
        "warnings.filterwarnings('ignore')"
      ],
      "execution_count": null,
      "outputs": []
    },
    {
      "cell_type": "markdown",
      "metadata": {
        "id": "VzzOR11bmVba"
      },
      "source": [
        "1.5 Increasing Row and Column Size"
      ]
    },
    {
      "cell_type": "code",
      "metadata": {
        "id": "kxIKf0hxmSDL"
      },
      "source": [
        "pd.set_option('display.max_rows', 3000)\n",
        "pd.set_option('display.max_columns',3000)"
      ],
      "execution_count": null,
      "outputs": []
    },
    {
      "cell_type": "markdown",
      "metadata": {
        "id": "5WppgaXkmd6L"
      },
      "source": [
        "2. Loading Data"
      ]
    },
    {
      "cell_type": "markdown",
      "metadata": {
        "id": "Aq9VEY96mkEI"
      },
      "source": [
        "2.1 Importing CSV Data from file"
      ]
    },
    {
      "cell_type": "code",
      "metadata": {
        "id": "ATqbnnu7madl"
      },
      "source": [
        "news_data = pd.read_csv('/content/drive/MyDrive/Upgrad/News Popularity Prediction/train.csv')\n",
        "news_unseen=pd.read_csv(\"/content/drive/MyDrive/Upgrad/News Popularity Prediction/test.csv\")\n",
        "data_dict=pd.read_csv(\"/content/drive/MyDrive/Upgrad/News Popularity Prediction/data_dictionary.csv\")"
      ],
      "execution_count": null,
      "outputs": []
    },
    {
      "cell_type": "code",
      "metadata": {
        "id": "Q9iP-BWtvDRC"
      },
      "source": [
        "news_unseen.head()"
      ],
      "execution_count": null,
      "outputs": []
    },
    {
      "cell_type": "markdown",
      "metadata": {
        "id": "WqUBk4WBnNZg"
      },
      "source": [
        "### 3. Understanding Data "
      ]
    },
    {
      "cell_type": "code",
      "metadata": {
        "id": "EPpHBjKUm4lC"
      },
      "source": [
        "print(news_data.shape)\n",
        "print(news_unseen.shape)\n",
        "print(data_dict.shape)"
      ],
      "execution_count": null,
      "outputs": []
    },
    {
      "cell_type": "code",
      "metadata": {
        "id": "CPYvJRW4naVq"
      },
      "source": [
        "data_dict"
      ],
      "execution_count": null,
      "outputs": []
    },
    {
      "cell_type": "code",
      "metadata": {
        "id": "Bm9V2fa4nfU7"
      },
      "source": [
        "news_data.head()"
      ],
      "execution_count": null,
      "outputs": []
    },
    {
      "cell_type": "code",
      "metadata": {
        "id": "N_WhCJm_nx0K"
      },
      "source": [
        "news_data.dtypes"
      ],
      "execution_count": null,
      "outputs": []
    },
    {
      "cell_type": "markdown",
      "metadata": {
        "id": "nYQyScQDn8Op"
      },
      "source": [
        "### 4. Data Prepocessing"
      ]
    },
    {
      "cell_type": "code",
      "metadata": {
        "id": "gpbnClRWc8ke"
      },
      "source": [
        "news_data.head()"
      ],
      "execution_count": null,
      "outputs": []
    },
    {
      "cell_type": "code",
      "metadata": {
        "id": "0F8-n87bdJZd"
      },
      "source": [
        "news_data.info(verbose=True)"
      ],
      "execution_count": null,
      "outputs": []
    },
    {
      "cell_type": "code",
      "metadata": {
        "id": "B0FaciRXojMs"
      },
      "source": [
        "news_data.describe(include='all')"
      ],
      "execution_count": null,
      "outputs": []
    },
    {
      "cell_type": "code",
      "metadata": {
        "id": "UuS8V-8losCm"
      },
      "source": [
        "# Checking the Churn Rate\n",
        "shares_percent = (sum(news_data['shares'])/len(news_data['shares'].index))*100\n",
        "shares_percent"
      ],
      "execution_count": null,
      "outputs": []
    },
    {
      "cell_type": "code",
      "metadata": {
        "id": "QJDy226V9BJg"
      },
      "source": [
        "news_data = news_data.drop('url',axis=1)"
      ],
      "execution_count": null,
      "outputs": []
    },
    {
      "cell_type": "code",
      "metadata": {
        "id": "5OOIjqb5XyOo"
      },
      "source": [
        "news_data.shape"
      ],
      "execution_count": null,
      "outputs": []
    },
    {
      "cell_type": "markdown",
      "metadata": {
        "id": "vAI3_kdn65BZ"
      },
      "source": [
        "4.2 Create X, y and then Train test split"
      ]
    },
    {
      "cell_type": "code",
      "metadata": {
        "id": "bUlU2sQW62FO"
      },
      "source": [
        "X = news_data.set_index('id')\n",
        "y = news_data['shares']\n",
        "\n",
        "X_train,X_test,y_train,y_test=train_test_split(X,y,test_size=0.2)"
      ],
      "execution_count": null,
      "outputs": []
    },
    {
      "cell_type": "code",
      "metadata": {
        "id": "FY4bjw-l7C2R"
      },
      "source": [
        "print(X_train.shape)\n",
        "print(X_test.shape)\n",
        "print(y_train.shape)\n",
        "print(y_test.shape)"
      ],
      "execution_count": null,
      "outputs": []
    },
    {
      "cell_type": "code",
      "metadata": {
        "id": "G0gG2gZR7FKj"
      },
      "source": [
        "y_train.head()"
      ],
      "execution_count": null,
      "outputs": []
    },
    {
      "cell_type": "code",
      "metadata": {
        "id": "cIcwh7Hp7JFW"
      },
      "source": [
        "X_train.head()"
      ],
      "execution_count": null,
      "outputs": []
    },
    {
      "cell_type": "markdown",
      "metadata": {
        "id": "0By3O9Mh8cWn"
      },
      "source": [
        "#### 4.3 Handling Missing data"
      ]
    },
    {
      "cell_type": "markdown",
      "metadata": {
        "id": "HfhNZHGO8cgh"
      },
      "source": [
        "##### 4.3.1 Checking Missing Values"
      ]
    },
    {
      "cell_type": "code",
      "metadata": {
        "id": "kmr9iPlM7NoY"
      },
      "source": [
        "# Checking percentage of missing values before removing the missing values\n",
        "round(100*(X_train.isnull().sum()/len(X_train.index)), 2)"
      ],
      "execution_count": null,
      "outputs": []
    },
    {
      "cell_type": "markdown",
      "metadata": {
        "id": "JLElcD6Aoq7z"
      },
      "source": [
        "##### 4.3.2 Imputing Missing Values"
      ]
    },
    {
      "cell_type": "code",
      "metadata": {
        "id": "UArb3DNV7Sg0"
      },
      "source": [
        "media_features_missing_values=['num_imgs','num_videos']\n",
        "reference_features_missing_values =['self_reference_min_shares','self_reference_max_shares','self_reference_avg_sharess','num_hrefs','num_self_hrefs']\n",
        "weekday_missing_values=['is_weekend','weekday_is_monday','weekday_is_tuesday','weekday_is_wednesday','weekday_is_thursday','weekday_is_friday','weekday_is_saturday','weekday_is_sunday']\n",
        "subjectivity_features_missing_values = ['global_subjectivity', 'title_subjectivity', 'abs_title_subjectivity']\n",
        "keyword_features_missing_values=['kw_min_min','kw_min_max','kw_min_avg','kw_max_min','kw_max_max','kw_max_avg','kw_avg_min','kw_avg_max','kw_avg_avg','num_keywords']\n",
        "\n",
        "sentiment_features_missing_values = ['global_sentiment_polarity', 'global_rate_positive_words','global_rate_negative_words', 'rate_positive_words','rate_negative_words', 'avg_positive_polarity',\n",
        "                     'min_positive_polarity', 'max_positive_polarity','avg_negative_polarity', 'min_negative_polarity','max_negative_polarity', 'title_sentiment_polarity',\n",
        "                       'abs_title_sentiment_polarity']\n"
      ],
      "execution_count": null,
      "outputs": []
    },
    {
      "cell_type": "code",
      "metadata": {
        "id": "zFR32EQGU4lu"
      },
      "source": [
        "median_imputation = SimpleImputer(missing_values=np.nan, strategy='median')"
      ],
      "execution_count": null,
      "outputs": []
    },
    {
      "cell_type": "code",
      "metadata": {
        "id": "J3M7DGt9U-sn"
      },
      "source": [
        "X_train[media_features_missing_values]=median_imputation.fit_transform(X_train[media_features_missing_values])\n",
        "X_train[reference_features_missing_values]=median_imputation.fit_transform(X_train[reference_features_missing_values])\n",
        "X_train[weekday_missing_values]=median_imputation.fit_transform(X_train[weekday_missing_values])\n",
        "X_train[subjectivity_features_missing_values]=median_imputation.fit_transform(X_train[subjectivity_features_missing_values])\n",
        "X_train[keyword_features_missing_values]=median_imputation.fit_transform(X_train[keyword_features_missing_values])\n",
        "X_train[sentiment_features_missing_values]=median_imputation.fit_transform(X_train[sentiment_features_missing_values])\n"
      ],
      "execution_count": null,
      "outputs": []
    },
    {
      "cell_type": "code",
      "metadata": {
        "id": "PTuImHKVfwUB"
      },
      "source": [
        "X_test[media_features_missing_values]=median_imputation.fit_transform(X_test[media_features_missing_values])\n",
        "X_test[reference_features_missing_values]=median_imputation.fit_transform(X_test[reference_features_missing_values])\n",
        "X_test[weekday_missing_values]=median_imputation.fit_transform(X_test[weekday_missing_values])\n",
        "X_test[subjectivity_features_missing_values]=median_imputation.fit_transform(X_test[subjectivity_features_missing_values])\n",
        "X_test[keyword_features_missing_values]=median_imputation.fit_transform(X_test[keyword_features_missing_values])\n",
        "X_test[sentiment_features_missing_values]=median_imputation.fit_transform(X_test[sentiment_features_missing_values])"
      ],
      "execution_count": null,
      "outputs": []
    },
    {
      "cell_type": "code",
      "metadata": {
        "id": "n6AZj-zNiW4m"
      },
      "source": [
        "X_train.isnull().sum()"
      ],
      "execution_count": null,
      "outputs": []
    },
    {
      "cell_type": "code",
      "metadata": {
        "id": "fzW2b8XGi8nC"
      },
      "source": [
        "X_test.isnull().sum()"
      ],
      "execution_count": null,
      "outputs": []
    },
    {
      "cell_type": "code",
      "metadata": {
        "id": "9F1is4PUjq-j"
      },
      "source": [
        "msno.bar(X_train)"
      ],
      "execution_count": null,
      "outputs": []
    },
    {
      "cell_type": "code",
      "metadata": {
        "id": "_EDBQh1HjuOA"
      },
      "source": [
        "X_train.describe()"
      ],
      "execution_count": null,
      "outputs": []
    },
    {
      "cell_type": "code",
      "metadata": {
        "id": "a-oZlKXfpV-R"
      },
      "source": [
        "X_train.head()"
      ],
      "execution_count": null,
      "outputs": []
    },
    {
      "cell_type": "markdown",
      "metadata": {
        "id": "1IWyzGG08zWS"
      },
      "source": [
        "#### 5. Outlier Treatment"
      ]
    },
    {
      "cell_type": "markdown",
      "metadata": {
        "id": "WQgIim2984CA"
      },
      "source": [
        "##### 5.1.1 Checking Outliers on Train Set"
      ]
    },
    {
      "cell_type": "code",
      "metadata": {
        "id": "rCclk7b-jzeN"
      },
      "source": [
        "plt.figure(figsize=(15,8))\n",
        "plt.xticks(rotation=45)\n",
        "sns.boxplot(data = X_train)\n",
        "plt.show()"
      ],
      "execution_count": null,
      "outputs": []
    },
    {
      "cell_type": "markdown",
      "metadata": {
        "id": "yM06RLmfK3Ak"
      },
      "source": [
        "##### 5.1.2 Checking Outliers on Test Set"
      ]
    },
    {
      "cell_type": "code",
      "metadata": {
        "id": "Yk6AvBNjKkG1"
      },
      "source": [
        "plt.figure(figsize=(15,8))\n",
        "plt.xticks(rotation=45)\n",
        "sns.boxplot(data = X_test)\n",
        "plt.show()"
      ],
      "execution_count": null,
      "outputs": []
    },
    {
      "cell_type": "markdown",
      "metadata": {
        "id": "ydBq0TSd88C0"
      },
      "source": [
        "##### 5.2 Removing Outliers"
      ]
    },
    {
      "cell_type": "markdown",
      "metadata": {
        "id": "IDULgFSWLD9Y"
      },
      "source": [
        "##### 5.2.1 Removing Outliers on Train Set"
      ]
    },
    {
      "cell_type": "code",
      "metadata": {
        "id": "hADytLT8PQAD"
      },
      "source": [
        "def cap_outliers(array, k=3):\n",
        "    upper_limit = array.mean() + k*array.std()\n",
        "    lower_limit = array.mean() - k*array.std()\n",
        "    array[array<lower_limit] = lower_limit\n",
        "    array[array>upper_limit] = upper_limit\n",
        "    return array"
      ],
      "execution_count": null,
      "outputs": []
    },
    {
      "cell_type": "code",
      "metadata": {
        "id": "3T9uouQ5PQAD"
      },
      "source": [
        "X_train = X_train.apply(cap_outliers, axis=0)\n",
        "\n",
        "plt.figure(figsize=(15,8))\n",
        "plt.xticks(rotation=45)\n",
        "sns.boxplot(data = X_train)"
      ],
      "execution_count": null,
      "outputs": []
    },
    {
      "cell_type": "markdown",
      "metadata": {
        "id": "nGFmY0zlLI1V"
      },
      "source": [
        "##### 5.2.2 Removing Outliers on Test Set"
      ]
    },
    {
      "cell_type": "code",
      "metadata": {
        "id": "Y6eHTzFiKp-q"
      },
      "source": [
        "def cap_outliers(array, k=3):\n",
        "    upper_limit = array.mean() + k*array.std()\n",
        "    lower_limit = array.mean() - k*array.std()\n",
        "    array[array<lower_limit] = lower_limit\n",
        "    array[array>upper_limit] = upper_limit\n",
        "    return array"
      ],
      "execution_count": null,
      "outputs": []
    },
    {
      "cell_type": "code",
      "metadata": {
        "id": "hbPcanC9Kr8a"
      },
      "source": [
        "X_test = X_test.apply(cap_outliers, axis=0)\n",
        "\n",
        "plt.figure(figsize=(15,8))\n",
        "plt.xticks(rotation=45)\n",
        "sns.boxplot(data = X_test)"
      ],
      "execution_count": null,
      "outputs": []
    },
    {
      "cell_type": "markdown",
      "metadata": {
        "id": "aJpmI_gi9CsM"
      },
      "source": [
        "### 8.Feature Engineering And Selection"
      ]
    },
    {
      "cell_type": "markdown",
      "metadata": {
        "id": "FSLMfTopLczu"
      },
      "source": [
        "### 8.1.1 Scaling on Train Set"
      ]
    },
    {
      "cell_type": "code",
      "metadata": {
        "id": "LgkauJ4AkWNN"
      },
      "source": [
        "X_train.describe()"
      ],
      "execution_count": null,
      "outputs": []
    },
    {
      "cell_type": "code",
      "metadata": {
        "id": "rjSHIU3mqIl0"
      },
      "source": [
        "scale = StandardScaler()\n",
        "X_train[:] = scale.fit_transform(X_train)"
      ],
      "execution_count": null,
      "outputs": []
    },
    {
      "cell_type": "code",
      "metadata": {
        "id": "LPNfv-rDqQHY"
      },
      "source": [
        "X_train.describe()"
      ],
      "execution_count": null,
      "outputs": []
    },
    {
      "cell_type": "markdown",
      "metadata": {
        "id": "bHAU-wXzLoMp"
      },
      "source": [
        "### 8.1.2 Scaling on Test Set"
      ]
    },
    {
      "cell_type": "code",
      "metadata": {
        "id": "YRNZ1hKgLxu3"
      },
      "source": [
        "X_test.describe()"
      ],
      "execution_count": null,
      "outputs": []
    },
    {
      "cell_type": "code",
      "metadata": {
        "id": "Ych6Vio2L6b0"
      },
      "source": [
        "scale = StandardScaler()\n",
        "X_test[:] = scale.fit_transform(X_test)"
      ],
      "execution_count": null,
      "outputs": []
    },
    {
      "cell_type": "code",
      "metadata": {
        "id": "k4DwogOVL6h6"
      },
      "source": [
        "X_test.describe()"
      ],
      "execution_count": null,
      "outputs": []
    },
    {
      "cell_type": "code",
      "metadata": {
        "id": "m3Tlmjaii9XV"
      },
      "source": [
        "X_train.shape"
      ],
      "execution_count": null,
      "outputs": []
    },
    {
      "cell_type": "code",
      "metadata": {
        "id": "R8vaoqMnjAlR"
      },
      "source": [
        "X_test.shape"
      ],
      "execution_count": null,
      "outputs": []
    },
    {
      "cell_type": "markdown",
      "metadata": {
        "id": "QGE-q3BB9Hj2"
      },
      "source": [
        "### 7. Exploratory Data Analysis"
      ]
    },
    {
      "cell_type": "markdown",
      "metadata": {
        "id": "wT5AYCiZ9K52"
      },
      "source": [
        "#### 7.1 Plotting Heatmap"
      ]
    },
    {
      "cell_type": "code",
      "metadata": {
        "id": "YptFInr6qT4F"
      },
      "source": [
        "plt.figure(figsize=(25,25))\n",
        "sns.heatmap(X_train.corr(),annot=True)"
      ],
      "execution_count": null,
      "outputs": []
    },
    {
      "cell_type": "markdown",
      "metadata": {
        "id": "BkUygEP_9QdM"
      },
      "source": [
        "### 8.Feature Engineering And Selection"
      ]
    },
    {
      "cell_type": "markdown",
      "metadata": {
        "id": "_3-PECS79esn"
      },
      "source": [
        "#### 8.1 Performing PCA Train Data"
      ]
    },
    {
      "cell_type": "code",
      "metadata": {
        "id": "gLdD-qndeWNO"
      },
      "source": [
        "pca = PCA(random_state=42)"
      ],
      "execution_count": null,
      "outputs": []
    },
    {
      "cell_type": "code",
      "metadata": {
        "id": "jSmFC2bS9ivv"
      },
      "source": [
        "pca.fit(X_train)"
      ],
      "execution_count": null,
      "outputs": []
    },
    {
      "cell_type": "code",
      "metadata": {
        "id": "dvm-CjtH9ynn"
      },
      "source": [
        "pca.components_"
      ],
      "execution_count": null,
      "outputs": []
    },
    {
      "cell_type": "markdown",
      "metadata": {
        "id": "_P_9g-0u937q"
      },
      "source": [
        "#### 8.2 Components From PCA"
      ]
    },
    {
      "cell_type": "code",
      "metadata": {
        "id": "Re1vTqil90z6"
      },
      "source": [
        "pca.explained_variance_ratio_"
      ],
      "execution_count": null,
      "outputs": []
    },
    {
      "cell_type": "markdown",
      "metadata": {
        "id": "_s2GAJm399N2"
      },
      "source": [
        "#### 8.3 Making Scree Plot For Explained Variance"
      ]
    },
    {
      "cell_type": "code",
      "metadata": {
        "id": "qa-5mhVR96qG"
      },
      "source": [
        "var_cumu = np.cumsum(pca.explained_variance_ratio_)"
      ],
      "execution_count": null,
      "outputs": []
    },
    {
      "cell_type": "code",
      "metadata": {
        "id": "39SM1BYc-ARp"
      },
      "source": [
        "fig = plt.figure(figsize=[12,8])\n",
        "plt.vlines(x=15, ymax=1, ymin=0, colors=\"r\", linestyles=\"--\")\n",
        "plt.hlines(y=0.95, xmax=50, xmin=0, colors=\"g\", linestyles=\"--\")\n",
        "plt.plot(var_cumu)\n",
        "plt.ylabel(\"Cumulative variance explained\")\n",
        "plt.show()\n"
      ],
      "execution_count": null,
      "outputs": []
    },
    {
      "cell_type": "markdown",
      "metadata": {
        "id": "iy3230Po-Ka-"
      },
      "source": [
        "#### 8.4 Perform PCA With 35 Components"
      ]
    },
    {
      "cell_type": "code",
      "metadata": {
        "id": "fcEeRA8m-DxI"
      },
      "source": [
        "pca_final = IncrementalPCA(n_components=35)"
      ],
      "execution_count": null,
      "outputs": []
    },
    {
      "cell_type": "code",
      "metadata": {
        "id": "0IE8lCyy-P0M"
      },
      "source": [
        "X_train_pca = pca_final.fit_transform(X_train)"
      ],
      "execution_count": null,
      "outputs": []
    },
    {
      "cell_type": "code",
      "metadata": {
        "id": "IH_M-PX5-STn"
      },
      "source": [
        "X_train_pca.shape"
      ],
      "execution_count": null,
      "outputs": []
    },
    {
      "cell_type": "code",
      "metadata": {
        "id": "2_Q2T6uZ-VOd"
      },
      "source": [
        "corrmat = np.corrcoef(X_train_pca.transpose())"
      ],
      "execution_count": null,
      "outputs": []
    },
    {
      "cell_type": "code",
      "metadata": {
        "id": "CgsLbQxe-XcU"
      },
      "source": [
        "corrmat.shape"
      ],
      "execution_count": null,
      "outputs": []
    },
    {
      "cell_type": "markdown",
      "metadata": {
        "id": "E0DCh-Y3-dFH"
      },
      "source": [
        "#### 8.5 Plotting Heatmap For Corr Matrix"
      ]
    },
    {
      "cell_type": "code",
      "metadata": {
        "id": "imNZHRXx-Zt1"
      },
      "source": [
        "plt.figure(figsize=[20,20])\n",
        "sns.heatmap(corrmat, annot=True)"
      ],
      "execution_count": null,
      "outputs": []
    },
    {
      "cell_type": "markdown",
      "metadata": {
        "id": "TnklFMaxWGVx"
      },
      "source": [
        ""
      ]
    },
    {
      "cell_type": "code",
      "metadata": {
        "id": "o82fXLmGWIQi"
      },
      "source": [
        "X_test_pca = pca_final.transform(X_test)\n",
        "X_test_pca.shape"
      ],
      "execution_count": null,
      "outputs": []
    },
    {
      "cell_type": "markdown",
      "metadata": {
        "id": "dTTct2mpNcCf"
      },
      "source": [
        "### 9. Model Building"
      ]
    },
    {
      "cell_type": "markdown",
      "metadata": {
        "id": "Muepw4atQd4z"
      },
      "source": [
        "#### 9.1 Linear Regression on Seen Data"
      ]
    },
    {
      "cell_type": "markdown",
      "metadata": {
        "id": "3cWYDc-nQk7u"
      },
      "source": [
        "##### 9.1.1 Train Set"
      ]
    },
    {
      "cell_type": "code",
      "metadata": {
        "id": "uO1SxqApNg8g"
      },
      "source": [
        "reg = LinearRegression() \n",
        "reg.fit(X_train,y_train)"
      ],
      "execution_count": null,
      "outputs": []
    },
    {
      "cell_type": "code",
      "metadata": {
        "id": "UrkgdV7XNpso"
      },
      "source": [
        "# Predictions on the basis of the model\n",
        "y_pred = reg.predict(X_train)\n",
        "y_pred"
      ],
      "execution_count": null,
      "outputs": []
    },
    {
      "cell_type": "code",
      "metadata": {
        "id": "SjdSiAKeNumj"
      },
      "source": [
        "r2_score(y_train, y_pred) "
      ],
      "execution_count": null,
      "outputs": []
    },
    {
      "cell_type": "code",
      "metadata": {
        "id": "hKxtDzZDNupq"
      },
      "source": [
        "#Residual Sum of Squares = Mean_Squared_Error * Total number of datapoints\n",
        "rss = np.sum(np.square(y_train - y_pred))\n",
        "print(rss)\n",
        "mse = mean_squared_error(y_train, y_pred)\n",
        "print(mse)\n",
        "# Root Mean Squared Error\n",
        "rmse = mse**0.5\n",
        "print(rmse)"
      ],
      "execution_count": null,
      "outputs": []
    },
    {
      "cell_type": "markdown",
      "metadata": {
        "id": "4UVN1J3oOJJe"
      },
      "source": [
        "##### 9.1.2 Test Set"
      ]
    },
    {
      "cell_type": "code",
      "metadata": {
        "id": "N8kIUCtYNusy"
      },
      "source": [
        "reg = LinearRegression() \n",
        "reg.fit(X_test,y_test)"
      ],
      "execution_count": null,
      "outputs": []
    },
    {
      "cell_type": "code",
      "metadata": {
        "id": "uOVf_deGOjqL"
      },
      "source": [
        "# Predictions on the basis of the model\n",
        "y_pred = reg.predict(X_test)\n",
        "y_pred"
      ],
      "execution_count": null,
      "outputs": []
    },
    {
      "cell_type": "code",
      "metadata": {
        "id": "Fsp1PRGTOoet"
      },
      "source": [
        "r2_score(y_test, y_pred)"
      ],
      "execution_count": null,
      "outputs": []
    },
    {
      "cell_type": "code",
      "metadata": {
        "id": "eJiKIzrFOs31"
      },
      "source": [
        "#Residual Sum of Squares = Mean_Squared_Error * Total number of datapoints\n",
        "rss = np.sum(np.square(y_test - y_pred))\n",
        "print(rss)\n",
        "mse = mean_squared_error(y_test, y_pred)\n",
        "print(mse)\n",
        "# Root Mean Squared Error\n",
        "rmse = mse**0.5\n",
        "print(rmse)"
      ],
      "execution_count": null,
      "outputs": []
    },
    {
      "cell_type": "markdown",
      "metadata": {
        "id": "QZDdlQ2gxmg9"
      },
      "source": [
        "#### 9.1 Linear Regression on Unseen Data"
      ]
    },
    {
      "cell_type": "code",
      "metadata": {
        "id": "sqL16HnAql_Z"
      },
      "source": [
        "news_unseen.head()"
      ],
      "execution_count": null,
      "outputs": []
    },
    {
      "cell_type": "code",
      "metadata": {
        "id": "_UJJyF0AquKa"
      },
      "source": [
        "submission_data = news_unseen.drop('url',axis=1)"
      ],
      "execution_count": null,
      "outputs": []
    },
    {
      "cell_type": "code",
      "metadata": {
        "id": "JJwcjzTBq4Oo"
      },
      "source": [
        "submission_data.set_index('id')"
      ],
      "execution_count": null,
      "outputs": []
    },
    {
      "cell_type": "code",
      "metadata": {
        "id": "cDEq44ZHrBy3"
      },
      "source": [
        "# Checking percentage of missing values before removing the missing values\n",
        "round(100*(submission_data.isnull().sum()/len(submission_data.index)), 2)"
      ],
      "execution_count": null,
      "outputs": []
    },
    {
      "cell_type": "code",
      "metadata": {
        "id": "lf5OHyJnrLSD"
      },
      "source": [
        "media_features_missing_values=['num_imgs','num_videos']\n",
        "reference_features_missing_values =['self_reference_min_shares','self_reference_max_shares','self_reference_avg_sharess','num_hrefs','num_self_hrefs']\n",
        "weekday_missing_values=['is_weekend','weekday_is_monday','weekday_is_tuesday','weekday_is_wednesday','weekday_is_thursday','weekday_is_friday','weekday_is_saturday','weekday_is_sunday']\n",
        "subjectivity_features_missing_values = ['global_subjectivity', 'title_subjectivity', 'abs_title_subjectivity']\n",
        "keyword_features_missing_values=['kw_min_min','kw_min_max','kw_min_avg','kw_max_min','kw_max_max','kw_max_avg','kw_avg_min','kw_avg_max','kw_avg_avg','num_keywords']\n",
        "\n",
        "sentiment_features_missing_values = ['global_sentiment_polarity', 'global_rate_positive_words','global_rate_negative_words', 'rate_positive_words','rate_negative_words', 'avg_positive_polarity',\n",
        "                     'min_positive_polarity', 'max_positive_polarity','avg_negative_polarity', 'min_negative_polarity','max_negative_polarity', 'title_sentiment_polarity',\n",
        "                       'abs_title_sentiment_polarity']"
      ],
      "execution_count": null,
      "outputs": []
    },
    {
      "cell_type": "code",
      "metadata": {
        "id": "KxfUDmGQrVYK"
      },
      "source": [
        "median_imputation = SimpleImputer(missing_values=np.nan, strategy='median')"
      ],
      "execution_count": null,
      "outputs": []
    },
    {
      "cell_type": "code",
      "metadata": {
        "id": "h34ewbpRrd61"
      },
      "source": [
        "submission_data[media_features_missing_values]=median_imputation.fit_transform(submission_data[media_features_missing_values])\n",
        "submission_data[reference_features_missing_values]=median_imputation.fit_transform(submission_data[reference_features_missing_values])\n",
        "submission_data[weekday_missing_values]=median_imputation.fit_transform(submission_data[weekday_missing_values])\n",
        "submission_data[subjectivity_features_missing_values]=median_imputation.fit_transform(submission_data[subjectivity_features_missing_values])\n",
        "submission_data[keyword_features_missing_values]=median_imputation.fit_transform(submission_data[keyword_features_missing_values])\n",
        "submission_data[sentiment_features_missing_values]=median_imputation.fit_transform(submission_data[sentiment_features_missing_values])"
      ],
      "execution_count": null,
      "outputs": []
    },
    {
      "cell_type": "code",
      "metadata": {
        "id": "iqh6INEbrikH"
      },
      "source": [
        "# Checking percentage of missing values after removing the missing values\n",
        "round(100*(submission_data.isnull().sum()/len(submission_data.index)), 2)"
      ],
      "execution_count": null,
      "outputs": []
    },
    {
      "cell_type": "code",
      "metadata": {
        "id": "-VByzrs-rlnf"
      },
      "source": [
        "def cap_outliers(array, k=3):\n",
        "    upper_limit = array.mean() + k*array.std()\n",
        "    lower_limit = array.mean() - k*array.std()\n",
        "    array[array<lower_limit] = lower_limit\n",
        "    array[array>upper_limit] = upper_limit\n",
        "    return array"
      ],
      "execution_count": null,
      "outputs": []
    },
    {
      "cell_type": "code",
      "metadata": {
        "id": "zizkD9w-rsfj"
      },
      "source": [
        "submission_data = submission_data.apply(cap_outliers, axis=0)"
      ],
      "execution_count": null,
      "outputs": []
    },
    {
      "cell_type": "code",
      "metadata": {
        "id": "mOTqEa6Ir1Hf"
      },
      "source": [
        "scale = StandardScaler()\n",
        "submission_data[:] = scale.fit_transform(submission_data)"
      ],
      "execution_count": null,
      "outputs": []
    },
    {
      "cell_type": "code",
      "metadata": {
        "id": "Mt9qBFBur_Wv"
      },
      "source": [
        "prob_news_popularity_test = reg.predict(submission_data)\n",
        "prob_news_popularity_test"
      ],
      "execution_count": null,
      "outputs": []
    },
    {
      "cell_type": "code",
      "metadata": {
        "id": "pso0m0B9sOLm"
      },
      "source": [
        "prob_news_popularity_test_df = pd.DataFrame(prob_news_popularity_test)\n",
        "# Converting to column dataframe\n",
        "prob_news_popularity_test_final = prob_news_popularity_test_df.iloc[:,[0]]\n",
        "prob_news_popularity_test_final.head()"
      ],
      "execution_count": null,
      "outputs": []
    },
    {
      "cell_type": "code",
      "metadata": {
        "id": "I4nBev6ZteJs"
      },
      "source": [
        "submission_data.head()"
      ],
      "execution_count": null,
      "outputs": []
    },
    {
      "cell_type": "code",
      "metadata": {
        "id": "gJI3vfZNtiBv"
      },
      "source": [
        "submission_data.reset_index(inplace=True)"
      ],
      "execution_count": null,
      "outputs": []
    },
    {
      "cell_type": "code",
      "metadata": {
        "id": "6O1VkVD1tpQi"
      },
      "source": [
        "submission_data"
      ],
      "execution_count": null,
      "outputs": []
    },
    {
      "cell_type": "code",
      "metadata": {
        "id": "elan_LBBtrfS"
      },
      "source": [
        "submission_data=pd.concat([submission_data,prob_news_popularity_test_df],axis=1)\n",
        "submission_data"
      ],
      "execution_count": null,
      "outputs": []
    },
    {
      "cell_type": "code",
      "metadata": {
        "id": "Mk_K3W9Ht3ai"
      },
      "source": [
        "submission_data.rename(columns={0:'shares_no'},inplace=True)"
      ],
      "execution_count": null,
      "outputs": []
    },
    {
      "cell_type": "code",
      "metadata": {
        "id": "kmY0sfljt9A4"
      },
      "source": [
        "submission_data.head()"
      ],
      "execution_count": null,
      "outputs": []
    },
    {
      "cell_type": "code",
      "metadata": {
        "id": "En-xNtxKuesb"
      },
      "source": [
        "submission_data['shares']=submission_data.shares_no.map( lambda x: 1 if x > 0.5 else 0)\n",
        "output = submission_data[['id','shares']]\n",
        "output.head()"
      ],
      "execution_count": null,
      "outputs": []
    },
    {
      "cell_type": "markdown",
      "metadata": {
        "id": "viLj9HWTNFj-"
      },
      "source": [
        "#### 9.2 Polynomial Regression on Seen Data"
      ]
    },
    {
      "cell_type": "markdown",
      "metadata": {
        "id": "6wUOwLOAVi8i"
      },
      "source": [
        "##### 9.2.1 On Train Set"
      ]
    },
    {
      "cell_type": "code",
      "metadata": {
        "id": "DRjvtAdtNNVr"
      },
      "source": [
        "poly = PolynomialFeatures(degree=2)\n",
        "poly_features = poly.fit_transform(X_train_pca)\n",
        "poly_features.shape"
      ],
      "execution_count": null,
      "outputs": []
    },
    {
      "cell_type": "code",
      "metadata": {
        "id": "QxV4BOv-S_UE"
      },
      "source": [
        "polyreg = LinearRegression()\n",
        "polyreg.fit(poly_features,y_train)"
      ],
      "execution_count": null,
      "outputs": []
    },
    {
      "cell_type": "code",
      "metadata": {
        "id": "eK94M0oQRngf"
      },
      "source": [
        "y_pred2 = polyreg.predict(poly.fit_transform(X_train_pca)) # store predictions from the polynomial regression in the variable y_pred5\n",
        "print(r2_score(y_train, y_pred2))"
      ],
      "execution_count": null,
      "outputs": []
    },
    {
      "cell_type": "code",
      "metadata": {
        "id": "yxa036kGRy63"
      },
      "source": [
        "# Metrics to assess model performance\n",
        "rss = np.sum(np.square(y_train - y_pred2))\n",
        "print(rss)\n",
        "mse = mean_squared_error(y_train, y_pred2)\n",
        "print(mse)\n",
        "rmse = mse**0.5\n",
        "# Root Mean Squared Error\n",
        "print(rmse)"
      ],
      "execution_count": null,
      "outputs": []
    },
    {
      "cell_type": "markdown",
      "metadata": {
        "id": "7au9IlI_VpVe"
      },
      "source": [
        "##### 9.2.1 On Test Set"
      ]
    },
    {
      "cell_type": "code",
      "metadata": {
        "id": "op9P6KUrVTOx"
      },
      "source": [
        "poly = PolynomialFeatures(degree=2)\n",
        "poly_features = poly.fit_transform(X_test_pca)\n",
        "poly_features.shape"
      ],
      "execution_count": null,
      "outputs": []
    },
    {
      "cell_type": "code",
      "metadata": {
        "id": "Qgnldbb6WPhj"
      },
      "source": [
        "polyreg1 = LinearRegression()\n",
        "polyreg1.fit(poly_features,y_test)"
      ],
      "execution_count": null,
      "outputs": []
    },
    {
      "cell_type": "code",
      "metadata": {
        "id": "yZl8zu9yWTxg"
      },
      "source": [
        "y_pred3 = polyreg1.predict(poly.fit_transform(X_test_pca)) # store predictions from the polynomial regression in the variable y_pred5\n",
        "print(r2_score(y_test, y_pred3))"
      ],
      "execution_count": null,
      "outputs": []
    },
    {
      "cell_type": "code",
      "metadata": {
        "id": "ydaJuVd6WhT4"
      },
      "source": [
        "# Metrics to assess model performance\n",
        "rss = np.sum(np.square(y_test - y_pred3))\n",
        "print(rss)\n",
        "mse = mean_squared_error(y_test, y_pred3)\n",
        "print(mse)\n",
        "rmse = mse**0.5\n",
        "# Root Mean Squared Error\n",
        "print(rmse)"
      ],
      "execution_count": null,
      "outputs": []
    },
    {
      "cell_type": "markdown",
      "metadata": {
        "id": "sFcXC-NVyFkD"
      },
      "source": [
        "#### 9.2 Polynomial Regression on UnSeen Data"
      ]
    },
    {
      "cell_type": "code",
      "metadata": {
        "id": "x88-r1RUya7F"
      },
      "source": [
        "poly_test = PolynomialFeatures(degree=2)\n",
        "poly_features = poly_test.fit_transform(submission_data)\n",
        "poly_features.shape"
      ],
      "execution_count": null,
      "outputs": []
    },
    {
      "cell_type": "code",
      "metadata": {
        "id": "sY4cZGpLy1PS"
      },
      "source": [
        "polyreg_test = LinearRegression()\n",
        "polyreg_test.fit(poly_features,submission_data)"
      ],
      "execution_count": null,
      "outputs": []
    },
    {
      "cell_type": "code",
      "metadata": {
        "id": "633k8sp70UkB"
      },
      "source": [
        "y_pred_test = polyreg_test.predict(poly.fit_transform(submission_data))"
      ],
      "execution_count": null,
      "outputs": []
    },
    {
      "cell_type": "code",
      "metadata": {
        "id": "jmzvnjVGyJ8l"
      },
      "source": [
        "submission_data.reset_index(inplace=True)\n",
        "output=submission_data[['id','shares']]\n",
        "output.head()"
      ],
      "execution_count": null,
      "outputs": []
    },
    {
      "cell_type": "markdown",
      "metadata": {
        "id": "3Gusd7eGXD7o"
      },
      "source": [
        "#### 9.3 Ridge Regression on Seen Data"
      ]
    },
    {
      "cell_type": "markdown",
      "metadata": {
        "id": "-J16t2J7dQiP"
      },
      "source": [
        "##### 9.3.1 On Train Set"
      ]
    },
    {
      "cell_type": "code",
      "metadata": {
        "id": "6ZkiKLUqWnvO"
      },
      "source": [
        "# Applying Ridge Regression with varying the hyperparameter 'lambda' on Train Set\n",
        "\n",
        "X_seq = np.linspace(X_train.min(),X_train.max(),300).reshape(-1,1) \n",
        "lambdas = [0, 0.001, 0.01, 0.1, 1, 10, 100, 1000] # Higher the value of lambda, \n",
        "                                                  # more the regularization\n",
        "for i in lambdas: # for each lambda we get different model coefficients\n",
        "    degree = 2 # Degree for polynomial regression - chose 5 since this is the lowest number that gave a perfect fit\n",
        "    # Creating degree 5 features\n",
        "    ridgecoef = PolynomialFeatures(degree)\n",
        "    # Transforming input features to polynomial features (1, x1, x2)    \n",
        "    X_poly = ridgecoef.fit_transform(X_train)\n",
        "    ridgereg = Ridge(alpha = i) # Initialize the Ridge Regression model with a specific lambda\n",
        "    ridgereg.fit(X_poly, y_train) # fit the model on the polynomial features\n",
        "    \n",
        "  \n",
        "    \n",
        "    #Computing the rss,mse,rmse,r2 score\n",
        "    y_pred = ridgereg.predict(ridgecoef.fit_transform(X_train))\n",
        "    rss = np.sum(np.square(y_train - y_pred))\n",
        "    mse = mean_squared_error(y_train, y_pred)\n",
        "    rmse = mse**0.5\n",
        "\n",
        "    print(\"Polynomial regression with degree \"+str(degree) + \" and lambda = \" + str(i))\n",
        "    print(\"r2 score = \" + str(r2_score(y_train, y_pred))) \n",
        "    print(\"rss = \" + str(rss))\n",
        "    print(\"mse = \" + str(rmse))\n",
        "    print(\"rmse = \" + str(rmse))\n",
        "    print(ridgereg.coef_) # model coefficients"
      ],
      "execution_count": null,
      "outputs": []
    },
    {
      "cell_type": "markdown",
      "metadata": {
        "id": "zIEqWYKpdVXm"
      },
      "source": [
        "##### 9.3.2 On Test Set"
      ]
    },
    {
      "cell_type": "code",
      "metadata": {
        "id": "JNjACBJfXYRK"
      },
      "source": [
        "# Applying Ridge Regression with varying the hyperparameter 'lambda' on Test Set\n",
        "\n",
        "X_seq = np.linspace(X_test.min(),X_test.max(),300).reshape(-1,1) \n",
        "lambdas = [0, 0.001, 0.01, 0.1, 1, 10, 100, 1000] # Higher the value of lambda, \n",
        "                                                  # more the regularization\n",
        "for i in lambdas: # for each lambda we get different model coefficients\n",
        "    degree = 2 # Degree for polynomial regression - chose 5 since this is the lowest number that gave a perfect fit\n",
        "    # Creating degree 5 features\n",
        "    ridgecoef = PolynomialFeatures(degree)\n",
        "    # Transforming input features to polynomial features (1, x1, x2)    \n",
        "    X_poly = ridgecoef.fit_transform(X_test)\n",
        "    ridgereg = Ridge(alpha = i) # Initialize the Ridge Regression model with a specific lambda\n",
        "    ridgereg.fit(X_poly, y_test) # fit the model on the polynomial features\n",
        "    \n",
        "    \n",
        "    #Computing the rss,mse,rmse,r2 score\n",
        "    y_pred = ridgereg.predict(ridgecoef.fit_transform(X_test))\n",
        "    rss = np.sum(np.square(y_test - y_pred))\n",
        "    mse = mean_squared_error(y_test, y_pred)\n",
        "    rmse = mse**0.5\n",
        "\n",
        "    print(\"Polynomial regression with degree \"+str(degree) + \" and lambda = \" + str(i))\n",
        "    print(\"r2 score = \" + str(r2_score(y_test, y_pred))) \n",
        "    print(\"rss = \" + str(rss))\n",
        "    print(\"mse = \" + str(rmse))\n",
        "    print(\"rmse = \" + str(rmse))\n",
        "    print(ridgereg.coef_) # model coefficients"
      ],
      "execution_count": null,
      "outputs": []
    },
    {
      "cell_type": "markdown",
      "metadata": {
        "id": "CZB1MaPedmSd"
      },
      "source": [
        "#### 9.4 Lasso Regression"
      ]
    },
    {
      "cell_type": "markdown",
      "metadata": {
        "id": "3y83WYDYdzGC"
      },
      "source": [
        "##### 9.4.1 On Train Set"
      ]
    },
    {
      "cell_type": "code",
      "metadata": {
        "id": "frdNKT0ydyKB"
      },
      "source": [
        "# Applying Lasso Regression with varying the hyperparameter 'lambda'on Train Set\n",
        "\n",
        "lambdas = [0.001, 0.01, 0.1, 1, 10, 100, 1000]\n",
        "for i in lambdas:\n",
        "    degree = 2\n",
        "    # Creating degree 5 features\n",
        "    lassocoef = PolynomialFeatures(degree)\n",
        "    # Transforming input features to polynomial features (1, x1, x2)\n",
        "    X_poly = lassocoef.fit_transform(X_train)\n",
        "    lassoreg = Lasso(alpha = i)\n",
        "    lassoreg.fit(X_poly, y_train)\n",
        " \n",
        "\n",
        "    # #Computing the rss,mse,rmse,r2 score\n",
        "    y_pred = lassoreg.predict(lassocoef.fit_transform(X_train))\n",
        "    rss = np.sum(np.square(y_train - y_pred))\n",
        "    mse = mean_squared_error(y_train, y_pred)\n",
        "    rmse = mse**0.5\n",
        "\n",
        "    \n",
        "    print(\"Polynomial regression with degree \"+str(degree) + \" and lambda = \" + str(i))\n",
        "    print(\"r2 score = \" + str(r2_score(y_train, y_pred))) \n",
        "    print(\"rss = \" + str(rss))\n",
        "    print(\"mse = \" + str(rmse))\n",
        "    print(\"rmse = \" + str(rmse))\n",
        "    print(lassoreg.coef_)\n"
      ],
      "execution_count": null,
      "outputs": []
    },
    {
      "cell_type": "markdown",
      "metadata": {
        "id": "x5OLjx-rgKWx"
      },
      "source": [
        "##### 9.4.2 On Test Set"
      ]
    },
    {
      "cell_type": "code",
      "metadata": {
        "id": "eqvROpwxgBhr"
      },
      "source": [
        "# Applying Lasso Regression with varying the hyperparameter 'lambda' on Train\n",
        "\n",
        "lambdas = [0.001, 0.01, 0.1, 1, 10, 100, 1000]\n",
        "for i in lambdas:\n",
        "    degree = 2\n",
        "    # Creating degree 5 features\n",
        "    lassocoef = PolynomialFeatures(degree)\n",
        "    # Transforming input features to polynomial features (1, x1, x2)\n",
        "    X_poly = lassocoef.fit_transform(X_test)\n",
        "    lassoreg = Lasso(alpha = i)\n",
        "    lassoreg.fit(X_poly, y_test)\n",
        "\n",
        "\n",
        "    # Compute R^2 \n",
        "    y_pred = lassoreg.predict(lassocoef.fit_transform(X_test))\n",
        "    rss = np.sum(np.square(y_test - y_pred))\n",
        "    mse = mean_squared_error(y_test, y_pred)\n",
        "    rmse = mse**0.5\n",
        "\n",
        "    \n",
        "    print(\"Polynomial regression with degree \"+str(degree) + \" and lambda = \" + str(i))\n",
        "    print(\"r2 score = \" + str(r2_score(y_test, y_pred))) \n",
        "    print(\"rss = \" + str(rss))\n",
        "    print(\"mse = \" + str(rmse))\n",
        "    print(\"rmse = \" + str(rmse))\n",
        "    print(lassoreg.coef_)"
      ],
      "execution_count": null,
      "outputs": []
    },
    {
      "cell_type": "code",
      "metadata": {
        "id": "69gtVjbunY1p"
      },
      "source": [
        "output.to_csv('New Popularity Prediction.csv',index=False)"
      ],
      "execution_count": null,
      "outputs": []
    },
    {
      "cell_type": "code",
      "metadata": {
        "id": "dSfm3ryl3AeZ"
      },
      "source": [
        ""
      ],
      "execution_count": null,
      "outputs": []
    }
  ]
}